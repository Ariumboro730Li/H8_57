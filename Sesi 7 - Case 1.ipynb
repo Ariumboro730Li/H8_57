{
 "cells": [
  {
   "cell_type": "code",
   "execution_count": 27,
   "id": "b33d53e6",
   "metadata": {},
   "outputs": [
    {
     "name": "stdout",
     "output_type": "stream",
     "text": [
      "<class 'pandas.core.frame.DataFrame'>\n",
      "RangeIndex: 414 entries, 0 to 413\n",
      "Data columns (total 5 columns):\n",
      " #   Column       Non-Null Count  Dtype \n",
      "---  ------       --------------  ----- \n",
      " 0   position     414 non-null    object\n",
      " 1   company      414 non-null    object\n",
      " 2   description  414 non-null    object\n",
      " 3   numreview    325 non-null    object\n",
      " 4   location     414 non-null    object\n",
      "dtypes: object(5)\n",
      "memory usage: 16.3+ KB\n"
     ]
    }
   ],
   "source": [
    "import numpy as np\n",
    "import pandas as pd\n",
    "\n",
    "data = \"fulltimeSD.csv\"\n",
    "source = pd.read_csv(data)\n",
    "\n",
    "source.info()"
   ]
  },
  {
   "cell_type": "code",
   "execution_count": 28,
   "id": "fa65577d",
   "metadata": {},
   "outputs": [
    {
     "data": {
      "text/html": [
       "<div>\n",
       "<style scoped>\n",
       "    .dataframe tbody tr th:only-of-type {\n",
       "        vertical-align: middle;\n",
       "    }\n",
       "\n",
       "    .dataframe tbody tr th {\n",
       "        vertical-align: top;\n",
       "    }\n",
       "\n",
       "    .dataframe thead th {\n",
       "        text-align: right;\n",
       "    }\n",
       "</style>\n",
       "<table border=\"1\" class=\"dataframe\">\n",
       "  <thead>\n",
       "    <tr style=\"text-align: right;\">\n",
       "      <th></th>\n",
       "      <th>position</th>\n",
       "      <th>company</th>\n",
       "      <th>description</th>\n",
       "      <th>numreview</th>\n",
       "      <th>location</th>\n",
       "    </tr>\n",
       "  </thead>\n",
       "  <tbody>\n",
       "    <tr>\n",
       "      <th>0</th>\n",
       "      <td>Experimental Design and Statistical Analysis S...</td>\n",
       "      <td>SDSU Research Foundation</td>\n",
       "      <td>&lt;span id=\"job_summary\" class=\"summary\"&gt;&lt;div&gt;&lt;h...</td>\n",
       "      <td>20 reviews</td>\n",
       "      <td>San Diego, CA</td>\n",
       "    </tr>\n",
       "    <tr>\n",
       "      <th>1</th>\n",
       "      <td>Computational Biologist/Bioinformatics Position</td>\n",
       "      <td>La Jolla Institute for Allergy and Immunology</td>\n",
       "      <td>&lt;span id=\"job_summary\" class=\"summary\"&gt;A posit...</td>\n",
       "      <td>10 reviews</td>\n",
       "      <td>San Diego, CA</td>\n",
       "    </tr>\n",
       "    <tr>\n",
       "      <th>2</th>\n",
       "      <td>Machine Learning - Software Engineer / Scientist</td>\n",
       "      <td>Brain Corporation</td>\n",
       "      <td>&lt;span id=\"job_summary\" class=\"summary\"&gt;&lt;div&gt;&lt;p...</td>\n",
       "      <td>NaN</td>\n",
       "      <td>San Diego, CA</td>\n",
       "    </tr>\n",
       "    <tr>\n",
       "      <th>3</th>\n",
       "      <td>Business Intelligence Specialist</td>\n",
       "      <td>Facility Management Planners, Inc</td>\n",
       "      <td>&lt;span id=\"job_summary\" class=\"summary\"&gt;&lt;p&gt;At F...</td>\n",
       "      <td>NaN</td>\n",
       "      <td>San Diego, CA 92109</td>\n",
       "    </tr>\n",
       "    <tr>\n",
       "      <th>4</th>\n",
       "      <td>Translational Scientist</td>\n",
       "      <td>Viome</td>\n",
       "      <td>&lt;span id=\"job_summary\" class=\"summary\"&gt;Viome i...</td>\n",
       "      <td>NaN</td>\n",
       "      <td>San Diego, CA</td>\n",
       "    </tr>\n",
       "  </tbody>\n",
       "</table>\n",
       "</div>"
      ],
      "text/plain": [
       "                                            position  \\\n",
       "0  Experimental Design and Statistical Analysis S...   \n",
       "1    Computational Biologist/Bioinformatics Position   \n",
       "2   Machine Learning - Software Engineer / Scientist   \n",
       "3                   Business Intelligence Specialist   \n",
       "4                            Translational Scientist   \n",
       "\n",
       "                                         company  \\\n",
       "0                       SDSU Research Foundation   \n",
       "1  La Jolla Institute for Allergy and Immunology   \n",
       "2                              Brain Corporation   \n",
       "3              Facility Management Planners, Inc   \n",
       "4                                          Viome   \n",
       "\n",
       "                                         description   numreview  \\\n",
       "0  <span id=\"job_summary\" class=\"summary\"><div><h...  20 reviews   \n",
       "1  <span id=\"job_summary\" class=\"summary\">A posit...  10 reviews   \n",
       "2  <span id=\"job_summary\" class=\"summary\"><div><p...         NaN   \n",
       "3  <span id=\"job_summary\" class=\"summary\"><p>At F...         NaN   \n",
       "4  <span id=\"job_summary\" class=\"summary\">Viome i...         NaN   \n",
       "\n",
       "              location  \n",
       "0        San Diego, CA  \n",
       "1        San Diego, CA  \n",
       "2        San Diego, CA  \n",
       "3  San Diego, CA 92109  \n",
       "4        San Diego, CA  "
      ]
     },
     "execution_count": 28,
     "metadata": {},
     "output_type": "execute_result"
    }
   ],
   "source": [
    "source.head()"
   ]
  },
  {
   "cell_type": "code",
   "execution_count": 29,
   "id": "4433d361",
   "metadata": {},
   "outputs": [],
   "source": [
    "source.set_index(\"company\", inplace=True)"
   ]
  },
  {
   "cell_type": "code",
   "execution_count": 31,
   "id": "9dc25710",
   "metadata": {},
   "outputs": [
    {
     "data": {
      "text/plain": [
       "position                                 Translational Scientist\n",
       "description    <span id=\"job_summary\" class=\"summary\">Viome i...\n",
       "numreview                                                    NaN\n",
       "location                                           San Diego, CA\n",
       "Name: Viome, dtype: object"
      ]
     },
     "execution_count": 31,
     "metadata": {},
     "output_type": "execute_result"
    }
   ],
   "source": [
    "source.loc['Viome']"
   ]
  },
  {
   "cell_type": "code",
   "execution_count": 36,
   "id": "9f02d568",
   "metadata": {},
   "outputs": [],
   "source": [
    "viome = source.loc[['Viome']]"
   ]
  },
  {
   "cell_type": "code",
   "execution_count": 37,
   "id": "8ae956f4",
   "metadata": {},
   "outputs": [
    {
     "data": {
      "text/html": [
       "<div>\n",
       "<style scoped>\n",
       "    .dataframe tbody tr th:only-of-type {\n",
       "        vertical-align: middle;\n",
       "    }\n",
       "\n",
       "    .dataframe tbody tr th {\n",
       "        vertical-align: top;\n",
       "    }\n",
       "\n",
       "    .dataframe thead th {\n",
       "        text-align: right;\n",
       "    }\n",
       "</style>\n",
       "<table border=\"1\" class=\"dataframe\">\n",
       "  <thead>\n",
       "    <tr style=\"text-align: right;\">\n",
       "      <th></th>\n",
       "      <th>position</th>\n",
       "      <th>description</th>\n",
       "      <th>numreview</th>\n",
       "      <th>location</th>\n",
       "    </tr>\n",
       "    <tr>\n",
       "      <th>company</th>\n",
       "      <th></th>\n",
       "      <th></th>\n",
       "      <th></th>\n",
       "      <th></th>\n",
       "    </tr>\n",
       "  </thead>\n",
       "  <tbody>\n",
       "    <tr>\n",
       "      <th>Viome</th>\n",
       "      <td>Translational Scientist</td>\n",
       "      <td>&lt;span id=\"job_summary\" class=\"summary\"&gt;Viome i...</td>\n",
       "      <td>NaN</td>\n",
       "      <td>San Diego, CA</td>\n",
       "    </tr>\n",
       "  </tbody>\n",
       "</table>\n",
       "</div>"
      ],
      "text/plain": [
       "                        position  \\\n",
       "company                            \n",
       "Viome    Translational Scientist   \n",
       "\n",
       "                                               description numreview  \\\n",
       "company                                                                \n",
       "Viome    <span id=\"job_summary\" class=\"summary\">Viome i...       NaN   \n",
       "\n",
       "              location  \n",
       "company                 \n",
       "Viome    San Diego, CA  "
      ]
     },
     "execution_count": 37,
     "metadata": {},
     "output_type": "execute_result"
    }
   ],
   "source": [
    "viome"
   ]
  },
  {
   "cell_type": "code",
   "execution_count": 38,
   "id": "59981ce0",
   "metadata": {},
   "outputs": [
    {
     "data": {
      "text/html": [
       "<div>\n",
       "<style scoped>\n",
       "    .dataframe tbody tr th:only-of-type {\n",
       "        vertical-align: middle;\n",
       "    }\n",
       "\n",
       "    .dataframe tbody tr th {\n",
       "        vertical-align: top;\n",
       "    }\n",
       "\n",
       "    .dataframe thead th {\n",
       "        text-align: right;\n",
       "    }\n",
       "</style>\n",
       "<table border=\"1\" class=\"dataframe\">\n",
       "  <thead>\n",
       "    <tr style=\"text-align: right;\">\n",
       "      <th>company</th>\n",
       "      <th>Viome</th>\n",
       "    </tr>\n",
       "  </thead>\n",
       "  <tbody>\n",
       "    <tr>\n",
       "      <th>position</th>\n",
       "      <td>Translational Scientist</td>\n",
       "    </tr>\n",
       "    <tr>\n",
       "      <th>description</th>\n",
       "      <td>&lt;span id=\"job_summary\" class=\"summary\"&gt;Viome i...</td>\n",
       "    </tr>\n",
       "    <tr>\n",
       "      <th>numreview</th>\n",
       "      <td>NaN</td>\n",
       "    </tr>\n",
       "    <tr>\n",
       "      <th>location</th>\n",
       "      <td>San Diego, CA</td>\n",
       "    </tr>\n",
       "  </tbody>\n",
       "</table>\n",
       "</div>"
      ],
      "text/plain": [
       "company                                                  Viome\n",
       "position                               Translational Scientist\n",
       "description  <span id=\"job_summary\" class=\"summary\">Viome i...\n",
       "numreview                                                  NaN\n",
       "location                                         San Diego, CA"
      ]
     },
     "execution_count": 38,
     "metadata": {},
     "output_type": "execute_result"
    }
   ],
   "source": [
    "viome.transpose()"
   ]
  },
  {
   "cell_type": "code",
   "execution_count": null,
   "id": "eb66a205",
   "metadata": {},
   "outputs": [],
   "source": []
  }
 ],
 "metadata": {
  "kernelspec": {
   "display_name": "Python 3",
   "language": "python",
   "name": "python3"
  },
  "language_info": {
   "codemirror_mode": {
    "name": "ipython",
    "version": 3
   },
   "file_extension": ".py",
   "mimetype": "text/x-python",
   "name": "python",
   "nbconvert_exporter": "python",
   "pygments_lexer": "ipython3",
   "version": "3.8.8"
  }
 },
 "nbformat": 4,
 "nbformat_minor": 5
}
