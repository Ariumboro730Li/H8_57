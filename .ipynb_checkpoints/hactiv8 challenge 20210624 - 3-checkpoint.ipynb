{
 "cells": [
  {
   "cell_type": "code",
   "execution_count": 15,
   "id": "23174619",
   "metadata": {},
   "outputs": [
    {
     "name": "stdout",
     "output_type": "stream",
     "text": [
      "Masukan Nama: siapa dia\n",
      "siapa dia\n",
      "siapa dia\n",
      "siapa dia\n",
      "siapa dia\n"
     ]
    }
   ],
   "source": [
    "namaList = input(\"Masukan Nama: \")\n",
    "list1a = [1,2,3,4]\n",
    "list1b = [1,2,3,4,5]\n",
    "\n",
    "lenlista = len(list1a)\n",
    "if list1a == list1b:\n",
    "    print(list1a)\n",
    "else:\n",
    "    for i in list1a:\n",
    "        print(namaList)"
   ]
  },
  {
   "cell_type": "code",
   "execution_count": 16,
   "id": "a591dd92",
   "metadata": {},
   "outputs": [
    {
     "name": "stdout",
     "output_type": "stream",
     "text": [
      "Masukan Nama: siapa dia\n",
      "range1 :1\n",
      "range2 :4\n",
      "range4 :1\n",
      "range5 :4\n",
      "[1, 2, 3, 4]\n"
     ]
    }
   ],
   "source": [
    "namaList = input(\"Masukan Nama: \")\n",
    "range1 = int(input(\"range1 :\"))\n",
    "range2 = int(input(\"range2 :\"))\n",
    "range3 = range(range1, range2 + 1, 1)\n",
    "\n",
    "range4 = int(input(\"range4 :\"))\n",
    "range5 = int(input(\"range5 :\"))\n",
    "range6 = range(range4, range5 + 1, 1)\n",
    "\n",
    "if range3 == range6:\n",
    "    print([*range3])\n",
    "else:\n",
    "    for n in range3:\n",
    "        print(namaList)"
   ]
  },
  {
   "cell_type": "code",
   "execution_count": null,
   "id": "6d73d991",
   "metadata": {},
   "outputs": [],
   "source": []
  },
  {
   "cell_type": "code",
   "execution_count": null,
   "id": "d126b50e",
   "metadata": {},
   "outputs": [],
   "source": []
  }
 ],
 "metadata": {
  "kernelspec": {
   "display_name": "Python 3",
   "language": "python",
   "name": "python3"
  },
  "language_info": {
   "codemirror_mode": {
    "name": "ipython",
    "version": 3
   },
   "file_extension": ".py",
   "mimetype": "text/x-python",
   "name": "python",
   "nbconvert_exporter": "python",
   "pygments_lexer": "ipython3",
   "version": "3.8.8"
  }
 },
 "nbformat": 4,
 "nbformat_minor": 5
}
