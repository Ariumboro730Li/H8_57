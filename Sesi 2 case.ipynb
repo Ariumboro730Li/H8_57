{
 "cells": [
  {
   "cell_type": "code",
   "execution_count": 19,
   "id": "83006e5c",
   "metadata": {},
   "outputs": [
    {
     "name": "stdout",
     "output_type": "stream",
     "text": [
      "ari umboro seno\n"
     ]
    }
   ],
   "source": [
    "nama_panjang = \"ari umboro seno\"\n",
    "nama_pendek = \"ari\"\n",
    "umur = 17\n",
    "splitNama = nama_panjang.split( );\n",
    "\n",
    "\n",
    "if umur % 2 == 0:\n",
    "    print(nama_panjang)\n",
    "else :\n",
    "    if(len(splitNama) >= 3):\n",
    "         print(nama_panjang)\n",
    "    else:\n",
    "         print(nama_pendek)"
   ]
  },
  {
   "cell_type": "code",
   "execution_count": 18,
   "id": "33c4ae92",
   "metadata": {},
   "outputs": [
    {
     "data": {
      "text/plain": [
       "3"
      ]
     },
     "execution_count": 18,
     "metadata": {},
     "output_type": "execute_result"
    }
   ],
   "source": [
    "nama_panjang = \"ari umboro seno\"\n",
    "nama_pendek = \"ari\"\n",
    "umur = 18\n",
    "splitNama = nama_panjang.split( );\n",
    "\n",
    "len(splitNama)"
   ]
  },
  {
   "cell_type": "code",
   "execution_count": null,
   "id": "0484ff05",
   "metadata": {},
   "outputs": [],
   "source": []
  }
 ],
 "metadata": {
  "kernelspec": {
   "display_name": "Python 3",
   "language": "python",
   "name": "python3"
  },
  "language_info": {
   "codemirror_mode": {
    "name": "ipython",
    "version": 3
   },
   "file_extension": ".py",
   "mimetype": "text/x-python",
   "name": "python",
   "nbconvert_exporter": "python",
   "pygments_lexer": "ipython3",
   "version": "3.8.8"
  }
 },
 "nbformat": 4,
 "nbformat_minor": 5
}
