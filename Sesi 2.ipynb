{
 "cells": [
  {
   "cell_type": "markdown",
   "id": "07f8d2bf",
   "metadata": {},
   "source": [
    "<h1>Sesi 2</h1>"
   ]
  },
  {
   "cell_type": "code",
   "execution_count": 2,
   "id": "4333368f",
   "metadata": {},
   "outputs": [
    {
     "name": "stdout",
     "output_type": "stream",
     "text": [
      "there is olo\n"
     ]
    }
   ],
   "source": [
    "varE = \"olo\"\n",
    "if varE in \"foolo\": \n",
    "    print(\"there is\",varE)\n",
    "else: \n",
    "    print(\"there is no\",varE);"
   ]
  },
  {
   "cell_type": "code",
   "execution_count": 5,
   "id": "0e45af63",
   "metadata": {},
   "outputs": [
    {
     "name": "stdout",
     "output_type": "stream",
     "text": [
      "betoolll\n"
     ]
    }
   ],
   "source": [
    "varint = \"123456\"\n",
    "if varint in \"1234567890111\":\n",
    "    print(\"betoolll\")\n",
    "else :\n",
    "    print (\"ora ono brooo\")"
   ]
  },
  {
   "cell_type": "code",
   "execution_count": 6,
   "id": "8a3a757e",
   "metadata": {},
   "outputs": [
    {
     "name": "stdout",
     "output_type": "stream",
     "text": [
      "4\n",
      "3\n",
      "2\n",
      "1\n",
      "0\n"
     ]
    }
   ],
   "source": [
    "n = 5\n",
    "while n > 0:\n",
    "    n -= 1\n",
    "    print(n)"
   ]
  },
  {
   "cell_type": "code",
   "execution_count": 7,
   "id": "64464e5f",
   "metadata": {},
   "outputs": [],
   "source": [
    "nama_panjang = \"ari umboro seno\"\n",
    "umur = 18\n",
    "\n",
    "if umur % 2:\n",
    "    print(nama_panjang)"
   ]
  },
  {
   "cell_type": "code",
   "execution_count": null,
   "id": "dd25c910",
   "metadata": {},
   "outputs": [],
   "source": []
  },
  {
   "cell_type": "code",
   "execution_count": null,
   "id": "51e5491c",
   "metadata": {},
   "outputs": [],
   "source": []
  },
  {
   "cell_type": "code",
   "execution_count": null,
   "id": "fbd347e7",
   "metadata": {},
   "outputs": [],
   "source": []
  }
 ],
 "metadata": {
  "kernelspec": {
   "display_name": "Python 3",
   "language": "python",
   "name": "python3"
  },
  "language_info": {
   "codemirror_mode": {
    "name": "ipython",
    "version": 3
   },
   "file_extension": ".py",
   "mimetype": "text/x-python",
   "name": "python",
   "nbconvert_exporter": "python",
   "pygments_lexer": "ipython3",
   "version": "3.8.8"
  }
 },
 "nbformat": 4,
 "nbformat_minor": 5
}
