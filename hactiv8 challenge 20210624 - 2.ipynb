{
 "cells": [
  {
   "cell_type": "code",
   "execution_count": 32,
   "id": "b6720165",
   "metadata": {},
   "outputs": [
    {
     "name": "stdout",
     "output_type": "stream",
     "text": [
      "Masukan Nama: isra\n",
      "1\n",
      "2\n",
      "3\n",
      "4\n"
     ]
    }
   ],
   "source": [
    "nama = input(\"Masukan Nama: \")\n",
    "nama = nama.replace(\" \", \"\")\n",
    "lennama = len(nama)\n",
    "\n",
    "n = 0\n",
    "while lennama >= 0:\n",
    "    n += 1\n",
    "    print(n)\n",
    "    if(n == lennama):\n",
    "        break\n",
    "     "
   ]
  },
  {
   "cell_type": "code",
   "execution_count": 4,
   "id": "34b70df3",
   "metadata": {},
   "outputs": [
    {
     "name": "stdout",
     "output_type": "stream",
     "text": [
      "Masukan Nama: isra\n",
      "isra\n",
      "isra\n",
      "isra\n",
      "isra\n"
     ]
    }
   ],
   "source": [
    "nama = input(\"Masukan Nama: \")\n",
    "list1a = [1,2,3,4]\n",
    "list1b = [1,2,3,4,5]\n",
    "\n",
    "lenlista = len(list1a)\n",
    "if list1a == list1b:\n",
    "    print(list1a)\n",
    "else:\n",
    "    for i in list1a:\n",
    "        print(nama)"
   ]
  },
  {
   "cell_type": "code",
   "execution_count": null,
   "id": "43bc6d09",
   "metadata": {},
   "outputs": [],
   "source": [
    "nama_panjang = input('nama panjang: ')\n",
    "i = 0\n",
    "clean_nama_panjang = nama_panjang.replace(' ','')\n",
    "\n",
    "for n in clean_nama_panjang:\n",
    "    i += 1\n",
    "    print(i)"
   ]
  },
  {
   "cell_type": "code",
   "execution_count": 50,
   "id": "770a4739",
   "metadata": {},
   "outputs": [
    {
     "name": "stdout",
     "output_type": "stream",
     "text": [
      "Masukan Nama: isra\n",
      "11\n",
      "12\n"
     ]
    }
   ],
   "source": [
    "### ini hasilnya error\n",
    "\n",
    "nama_panjang = input(\"Masukan Nama: \")\n",
    "namarep = nama_panjang.replace(\" \", \"\")\n",
    "lennamarep = [1,2,3,]\n",
    "for n in lennamarep:\n",
    "    a += 1\n",
    "    print(a)"
   ]
  },
  {
   "cell_type": "code",
   "execution_count": null,
   "id": "2dc77adc",
   "metadata": {},
   "outputs": [],
   "source": []
  }
 ],
 "metadata": {
  "kernelspec": {
   "display_name": "Python 3",
   "language": "python",
   "name": "python3"
  },
  "language_info": {
   "codemirror_mode": {
    "name": "ipython",
    "version": 3
   },
   "file_extension": ".py",
   "mimetype": "text/x-python",
   "name": "python",
   "nbconvert_exporter": "python",
   "pygments_lexer": "ipython3",
   "version": "3.8.8"
  }
 },
 "nbformat": 4,
 "nbformat_minor": 5
}
