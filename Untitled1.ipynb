{
 "cells": [
  {
   "cell_type": "code",
   "execution_count": 12,
   "id": "6843e58a",
   "metadata": {},
   "outputs": [
    {
     "name": "stdout",
     "output_type": "stream",
     "text": [
      "ciamik 56 True\n"
     ]
    }
   ],
   "source": [
    "nama = \"ciamik\"; \n",
    "age = 56;\n",
    "has_laptop = True;\n",
    "print(nama, age, has_laptop);"
   ]
  },
  {
   "cell_type": "code",
   "execution_count": 20,
   "id": "7c1a12be",
   "metadata": {},
   "outputs": [
    {
     "name": "stdout",
     "output_type": "stream",
     "text": [
      "60 60\n"
     ]
    }
   ],
   "source": [
    "a = 10\n",
    "b = 20\n",
    "c = 30\n",
    "f = a + b \\\n",
    "+ c\n",
    "print (a + b + c, f)"
   ]
  },
  {
   "cell_type": "code",
   "execution_count": 19,
   "id": "c53bdf6c",
   "metadata": {},
   "outputs": [
    {
     "name": "stdout",
     "output_type": "stream",
     "text": [
      "75\n"
     ]
    }
   ],
   "source": [
    "d = 15\n",
    "print (a + b + c + d)"
   ]
  },
  {
   "cell_type": "code",
   "execution_count": 34,
   "id": "d8dbb791",
   "metadata": {},
   "outputs": [
    {
     "name": "stdout",
     "output_type": "stream",
     "text": [
      "okeh men  siap gan\n",
      "1020\n"
     ]
    }
   ],
   "source": [
    "print(\"okeh men \",\"siap gan\")\n",
    "\n",
    "a ='10'\n",
    "b = '20'\n",
    "print(a+b)"
   ]
  },
  {
   "cell_type": "code",
   "execution_count": 51,
   "id": "a241427d",
   "metadata": {},
   "outputs": [
    {
     "name": "stdout",
     "output_type": "stream",
     "text": [
      "k\n",
      "True\n"
     ]
    },
    {
     "data": {
      "text/plain": [
       "'anc'"
      ]
     },
     "execution_count": 51,
     "metadata": {},
     "output_type": "execute_result"
    }
   ],
   "source": [
    "array = [1,\n",
    "         2,\n",
    "         3,\n",
    "         4,\n",
    "5]\n",
    "\n",
    "arrayB = [1,2,3,4,5]\n",
    "\n",
    "a = \"gancokkk\"\n",
    "print(a[-3])\n",
    "print(array == arrayB)\n",
    "len(a)\n",
    "\n"
   ]
  },
  {
   "cell_type": "code",
   "execution_count": 62,
   "id": "c5594008",
   "metadata": {},
   "outputs": [
    {
     "name": "stdout",
     "output_type": "stream",
     "text": [
      "7\n",
      "inilits\n",
      "[99, 2, 3, 4, 5]\n"
     ]
    }
   ],
   "source": [
    "a = 'inilits'\n",
    "alen = len(a)\n",
    "print(alen)\n",
    "b = a[0:8:1]\n",
    "print(b)\n",
    "\n",
    "inta = [1,2,3,4,5]\n",
    "inta[0] = 99\n",
    "print(inta)"
   ]
  },
  {
   "cell_type": "code",
   "execution_count": 79,
   "id": "182639d9",
   "metadata": {
    "scrolled": false
   },
   "outputs": [
    {
     "name": "stdout",
     "output_type": "stream",
     "text": [
      "True\n",
      "False\n",
      "False\n"
     ]
    }
   ],
   "source": [
    "alist = [1,2,3,4,5]\n",
    "blist = [1,2,3,4,5]\n",
    "\n",
    "astr = \"ikutyuk\"\n",
    "bstr = \"yukikut\"\n",
    "\n",
    "print(blist==alist)\n",
    "print(astr==bstr)\n",
    "\n",
    "print(alist == astr)"
   ]
  },
  {
   "cell_type": "code",
   "execution_count": 108,
   "id": "bd02b42c",
   "metadata": {},
   "outputs": [
    {
     "name": "stdout",
     "output_type": "stream",
     "text": [
      "padang\n"
     ]
    }
   ],
   "source": [
    "a = {\n",
    "    \"alamat\" : {\n",
    "        \"kota\": [\n",
    "            \"jakarta\", \n",
    "            \"bekasi\", \n",
    "            \"depok\"\n",
    "        ],\n",
    "        \"kota_b\" : [\n",
    "            \"padang\",\n",
    "            \"palembang\",\n",
    "            \"lampung\"\n",
    "        ]\n",
    "    }\n",
    "}\n",
    "\n",
    "b = a[\"alamat\"][\"kota_b\"][0]\n",
    "\n",
    "print(b)"
   ]
  },
  {
   "cell_type": "code",
   "execution_count": null,
   "id": "0c270ea1",
   "metadata": {},
   "outputs": [],
   "source": []
  }
 ],
 "metadata": {
  "kernelspec": {
   "display_name": "Python 3",
   "language": "python",
   "name": "python3"
  },
  "language_info": {
   "codemirror_mode": {
    "name": "ipython",
    "version": 3
   },
   "file_extension": ".py",
   "mimetype": "text/x-python",
   "name": "python",
   "nbconvert_exporter": "python",
   "pygments_lexer": "ipython3",
   "version": "3.8.8"
  }
 },
 "nbformat": 4,
 "nbformat_minor": 5
}
