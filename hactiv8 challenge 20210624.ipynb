{
 "cells": [
  {
   "cell_type": "code",
   "execution_count": 1,
   "id": "5fdccaee",
   "metadata": {},
   "outputs": [
    {
     "name": "stdout",
     "output_type": "stream",
     "text": [
      "Nama Panjang ari umboro seno\n",
      "Nama Pendek ari\n",
      "umur 20\n",
      "ari umboro seno\n"
     ]
    }
   ],
   "source": [
    "nama_panjang = input(\"Nama Panjang \")\n",
    "nama_pendek = input(\"Nama Pendek \")\n",
    "umur = int(input(\"umur \"))\n",
    "splitNama = nama_panjang.split( );\n",
    "\n",
    "\n",
    "if umur % 2 == 0:\n",
    "    print(nama_panjang)\n",
    "else :\n",
    "    if(len(splitNama) >= 3):\n",
    "         print(nama_panjang)\n",
    "    else:\n",
    "         print(nama_pendek)"
   ]
  },
  {
   "cell_type": "code",
   "execution_count": null,
   "id": "0d434179",
   "metadata": {},
   "outputs": [],
   "source": []
  },
  {
   "cell_type": "code",
   "execution_count": null,
   "id": "900d6106",
   "metadata": {},
   "outputs": [],
   "source": []
  }
 ],
 "metadata": {
  "kernelspec": {
   "display_name": "Python 3",
   "language": "python",
   "name": "python3"
  },
  "language_info": {
   "codemirror_mode": {
    "name": "ipython",
    "version": 3
   },
   "file_extension": ".py",
   "mimetype": "text/x-python",
   "name": "python",
   "nbconvert_exporter": "python",
   "pygments_lexer": "ipython3",
   "version": "3.8.8"
  }
 },
 "nbformat": 4,
 "nbformat_minor": 5
}
