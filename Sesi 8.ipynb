{
 "cells": [
  {
   "cell_type": "markdown",
   "id": "664e2382",
   "metadata": {},
   "source": [
    "#need to install:\n",
    "\n",
    "#1. pillow - https://anaconda.org/anaconda/pillow <br>\n",
    "#2. wordcloud - https://anaconda.org/conda-forge/wordcloud <br>\n",
    "#3. seaborn - https://anaconda.org/anaconda/seaborn <br>\n",
    "#4. folium - https://anaconda.org/conda-forge/folium <br>"
   ]
  },
  {
   "cell_type": "code",
   "execution_count": 1,
   "id": "b40a895c",
   "metadata": {},
   "outputs": [
    {
     "name": "stdout",
     "output_type": "stream",
     "text": [
      "3.8.8\n"
     ]
    }
   ],
   "source": [
    "from platform import python_version\n",
    "\n",
    "print(python_version())"
   ]
  },
  {
   "cell_type": "code",
   "execution_count": null,
   "id": "3c8a23b9",
   "metadata": {},
   "outputs": [],
   "source": []
  }
 ],
 "metadata": {
  "kernelspec": {
   "display_name": "Python 3",
   "language": "python",
   "name": "python3"
  },
  "language_info": {
   "codemirror_mode": {
    "name": "ipython",
    "version": 3
   },
   "file_extension": ".py",
   "mimetype": "text/x-python",
   "name": "python",
   "nbconvert_exporter": "python",
   "pygments_lexer": "ipython3",
   "version": "3.8.8"
  }
 },
 "nbformat": 4,
 "nbformat_minor": 5
}
